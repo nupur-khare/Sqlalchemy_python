{
  "nbformat": 4,
  "nbformat_minor": 0,
  "metadata": {
    "colab": {
      "provenance": [],
      "authorship_tag": "ABX9TyP2GiDtePnKAqtFESb1cLxi",
      "include_colab_link": true
    },
    "kernelspec": {
      "name": "python3",
      "display_name": "Python 3"
    },
    "language_info": {
      "name": "python"
    }
  },
  "cells": [
    {
      "cell_type": "markdown",
      "metadata": {
        "id": "view-in-github",
        "colab_type": "text"
      },
      "source": [
        "<a href=\"https://colab.research.google.com/github/nupur-khare/Sqlalchemy_python/blob/main/Sqlalchemy_python_script.ipynb\" target=\"_parent\"><img src=\"https://colab.research.google.com/assets/colab-badge.svg\" alt=\"Open In Colab\"/></a>"
      ]
    },
    {
      "cell_type": "code",
      "execution_count": 9,
      "metadata": {
        "colab": {
          "base_uri": "https://localhost:8080/"
        },
        "id": "6rLr87VioNfr",
        "outputId": "f2150d06-3d6c-47ef-fc10-6247a6a072d6"
      },
      "outputs": [
        {
          "output_type": "stream",
          "name": "stdout",
          "text": [
            "Requirement already satisfied: sqlalchemy in /usr/local/lib/python3.10/dist-packages (2.0.24)\n",
            "Requirement already satisfied: typing-extensions>=4.2.0 in /usr/local/lib/python3.10/dist-packages (from sqlalchemy) (4.5.0)\n",
            "Requirement already satisfied: greenlet!=0.4.17 in /usr/local/lib/python3.10/dist-packages (from sqlalchemy) (3.0.3)\n"
          ]
        }
      ],
      "source": [
        "!pip install sqlalchemy\n",
        "from sqlalchemy import create_engine, Column, Integer, String, Sequence, func\n",
        "from sqlalchemy.ext.declarative import declarative_base\n",
        "from sqlalchemy.orm import sessionmaker\n",
        "import pandas as pd"
      ]
    },
    {
      "cell_type": "code",
      "source": [
        "db_url = \"sqlite:///xyz.db\"\n",
        "\n",
        "engine = create_engine(db_url, echo=True)\n",
        "\n",
        "Base = declarative_base()\n",
        "\n",
        "class Employee(Base):\n",
        "    __tablename__ = 'employees'\n",
        "\n",
        "    id = Column(Integer, Sequence('user_id_seq'), primary_key=True)\n",
        "    name = Column(String(50))\n",
        "    role = Column(String(50))\n",
        "    salary = Column(Integer)\n",
        "\n",
        "Base.metadata.create_all(engine)\n",
        "\n",
        "Session = sessionmaker(bind=engine)\n",
        "session = Session()\n",
        "\n",
        "employee_data = [\n",
        "    (101, \"Nupur Khare\", \"Data Engineer\", 900000),\n",
        "    (102, \"Ria Sharma\", \"Software Engineer\", 1000000),\n",
        "    (103, \"Aditya K\", \"Platform Engineer\", 1800000),\n",
        "    (104, \"Shubhi Das\", \"Solutions Architect\", 2500000),\n",
        "    (105, \"John Doe\", \"System Engineer\", 600000),\n",
        "    (106, \"Rishi S\", \"System Engineer\", 500000),\n",
        "    (107, \"Suman K\", \"Platform Engineer\", 2900000),\n",
        "    (108, \"Zain C\", \"Data Engineer\", 1700000),\n",
        "    (109, \"Yuzi L\", \"Software Engineer\", 1300000),\n",
        "    (110, \"Krish N\", \"Solutions Architect\", 2900000)\n",
        "]\n",
        "\n",
        "for data in employee_data:\n",
        "    employee = Employee(id=data[0], name=data[1], role=data[2], salary=data[3])\n",
        "    session.add(employee)\n",
        "\n",
        "session.commit()\n",
        "\n",
        "average_salary_per_role = session.query(Employee.role, func.avg(Employee.salary).label('average_salary')).group_by(Employee.role).all()\n",
        "\n",
        "# Convert the result to a DataFrame\n",
        "columns = ['Role', 'Average Salary']\n",
        "df_average_salary = pd.DataFrame(average_salary_per_role, columns=columns)\n",
        "\n",
        "# Query all employees\n",
        "all_employees = session.query(Employee).all()\n",
        "\n",
        "# Convert employee data to a DataFrame\n",
        "df_employees = pd.DataFrame([(employee.id, employee.name, employee.role, employee.salary) for employee in all_employees],\n",
        "                             columns=['ID', 'Name', 'Role', 'Salary'])\n",
        "\n",
        "# Merge the two DataFrames on the 'Role' column\n",
        "df_combined = pd.merge(df_employees, df_average_salary, on='Role')\n",
        "\n",
        "# Print the combined DataFrame\n",
        "print(\"\\nCombined DataFrame - Employee Data with Average Salary per Role:\")\n",
        "print(df_combined)\n",
        "\n",
        "# Close the session\n",
        "session.close()"
      ],
      "metadata": {
        "colab": {
          "base_uri": "https://localhost:8080/"
        },
        "id": "EgK5x1tFsFZG",
        "outputId": "ccd31024-ab19-4efc-ecb0-2c7211b6ba95"
      },
      "execution_count": 10,
      "outputs": [
        {
          "output_type": "stream",
          "name": "stdout",
          "text": [
            "2024-01-21 11:15:01,183 INFO sqlalchemy.engine.Engine BEGIN (implicit)\n"
          ]
        },
        {
          "output_type": "stream",
          "name": "stderr",
          "text": [
            "<ipython-input-10-f485d94577cb>:5: MovedIn20Warning: The ``declarative_base()`` function is now available as sqlalchemy.orm.declarative_base(). (deprecated since: 2.0) (Background on SQLAlchemy 2.0 at: https://sqlalche.me/e/b8d9)\n",
            "  Base = declarative_base()\n",
            "INFO:sqlalchemy.engine.Engine:BEGIN (implicit)\n"
          ]
        },
        {
          "output_type": "stream",
          "name": "stdout",
          "text": [
            "2024-01-21 11:15:01,188 INFO sqlalchemy.engine.Engine PRAGMA main.table_info(\"employees\")\n"
          ]
        },
        {
          "output_type": "stream",
          "name": "stderr",
          "text": [
            "INFO:sqlalchemy.engine.Engine:PRAGMA main.table_info(\"employees\")\n"
          ]
        },
        {
          "output_type": "stream",
          "name": "stdout",
          "text": [
            "2024-01-21 11:15:01,191 INFO sqlalchemy.engine.Engine [raw sql] ()\n"
          ]
        },
        {
          "output_type": "stream",
          "name": "stderr",
          "text": [
            "INFO:sqlalchemy.engine.Engine:[raw sql] ()\n"
          ]
        },
        {
          "output_type": "stream",
          "name": "stdout",
          "text": [
            "2024-01-21 11:15:01,195 INFO sqlalchemy.engine.Engine PRAGMA temp.table_info(\"employees\")\n"
          ]
        },
        {
          "output_type": "stream",
          "name": "stderr",
          "text": [
            "INFO:sqlalchemy.engine.Engine:PRAGMA temp.table_info(\"employees\")\n"
          ]
        },
        {
          "output_type": "stream",
          "name": "stdout",
          "text": [
            "2024-01-21 11:15:01,198 INFO sqlalchemy.engine.Engine [raw sql] ()\n"
          ]
        },
        {
          "output_type": "stream",
          "name": "stderr",
          "text": [
            "INFO:sqlalchemy.engine.Engine:[raw sql] ()\n"
          ]
        },
        {
          "output_type": "stream",
          "name": "stdout",
          "text": [
            "2024-01-21 11:15:01,202 INFO sqlalchemy.engine.Engine \n",
            "CREATE TABLE employees (\n",
            "\tid INTEGER NOT NULL, \n",
            "\tname VARCHAR(50), \n",
            "\trole VARCHAR(50), \n",
            "\tsalary INTEGER, \n",
            "\tPRIMARY KEY (id)\n",
            ")\n",
            "\n",
            "\n"
          ]
        },
        {
          "output_type": "stream",
          "name": "stderr",
          "text": [
            "INFO:sqlalchemy.engine.Engine:\n",
            "CREATE TABLE employees (\n",
            "\tid INTEGER NOT NULL, \n",
            "\tname VARCHAR(50), \n",
            "\trole VARCHAR(50), \n",
            "\tsalary INTEGER, \n",
            "\tPRIMARY KEY (id)\n",
            ")\n",
            "\n",
            "\n"
          ]
        },
        {
          "output_type": "stream",
          "name": "stdout",
          "text": [
            "2024-01-21 11:15:01,204 INFO sqlalchemy.engine.Engine [no key 0.00275s] ()\n"
          ]
        },
        {
          "output_type": "stream",
          "name": "stderr",
          "text": [
            "INFO:sqlalchemy.engine.Engine:[no key 0.00275s] ()\n"
          ]
        },
        {
          "output_type": "stream",
          "name": "stdout",
          "text": [
            "2024-01-21 11:15:01,220 INFO sqlalchemy.engine.Engine COMMIT\n"
          ]
        },
        {
          "output_type": "stream",
          "name": "stderr",
          "text": [
            "INFO:sqlalchemy.engine.Engine:COMMIT\n"
          ]
        },
        {
          "output_type": "stream",
          "name": "stdout",
          "text": [
            "2024-01-21 11:15:01,227 INFO sqlalchemy.engine.Engine BEGIN (implicit)\n"
          ]
        },
        {
          "output_type": "stream",
          "name": "stderr",
          "text": [
            "INFO:sqlalchemy.engine.Engine:BEGIN (implicit)\n"
          ]
        },
        {
          "output_type": "stream",
          "name": "stdout",
          "text": [
            "2024-01-21 11:15:01,232 INFO sqlalchemy.engine.Engine INSERT INTO employees (id, name, role, salary) VALUES (?, ?, ?, ?)\n"
          ]
        },
        {
          "output_type": "stream",
          "name": "stderr",
          "text": [
            "INFO:sqlalchemy.engine.Engine:INSERT INTO employees (id, name, role, salary) VALUES (?, ?, ?, ?)\n"
          ]
        },
        {
          "output_type": "stream",
          "name": "stdout",
          "text": [
            "2024-01-21 11:15:01,235 INFO sqlalchemy.engine.Engine [generated in 0.00335s] [(101, 'Nupur Khare', 'Data Engineer', 900000), (102, 'Ria Sharma', 'Software Engineer', 1000000), (103, 'Aditya K', 'Platform Engineer', 1800000), (104, 'Shubhi Das', 'Solutions Architect', 2500000), (105, 'John Doe', 'System Engineer', 600000), (106, 'Rishi S', 'System Engineer', 500000), (107, 'Suman K', 'Platform Engineer', 2900000), (108, 'Zain C', 'Data Engineer', 1700000), (109, 'Yuzi L', 'Software Engineer', 1300000), (110, 'Krish N', 'Solutions Architect', 2900000)]\n"
          ]
        },
        {
          "output_type": "stream",
          "name": "stderr",
          "text": [
            "INFO:sqlalchemy.engine.Engine:[generated in 0.00335s] [(101, 'Nupur Khare', 'Data Engineer', 900000), (102, 'Ria Sharma', 'Software Engineer', 1000000), (103, 'Aditya K', 'Platform Engineer', 1800000), (104, 'Shubhi Das', 'Solutions Architect', 2500000), (105, 'John Doe', 'System Engineer', 600000), (106, 'Rishi S', 'System Engineer', 500000), (107, 'Suman K', 'Platform Engineer', 2900000), (108, 'Zain C', 'Data Engineer', 1700000), (109, 'Yuzi L', 'Software Engineer', 1300000), (110, 'Krish N', 'Solutions Architect', 2900000)]\n"
          ]
        },
        {
          "output_type": "stream",
          "name": "stdout",
          "text": [
            "2024-01-21 11:15:01,240 INFO sqlalchemy.engine.Engine COMMIT\n"
          ]
        },
        {
          "output_type": "stream",
          "name": "stderr",
          "text": [
            "INFO:sqlalchemy.engine.Engine:COMMIT\n"
          ]
        },
        {
          "output_type": "stream",
          "name": "stdout",
          "text": [
            "2024-01-21 11:15:01,253 INFO sqlalchemy.engine.Engine BEGIN (implicit)\n"
          ]
        },
        {
          "output_type": "stream",
          "name": "stderr",
          "text": [
            "INFO:sqlalchemy.engine.Engine:BEGIN (implicit)\n"
          ]
        },
        {
          "output_type": "stream",
          "name": "stdout",
          "text": [
            "2024-01-21 11:15:01,257 INFO sqlalchemy.engine.Engine SELECT employees.role AS employees_role, avg(employees.salary) AS average_salary \n",
            "FROM employees GROUP BY employees.role\n"
          ]
        },
        {
          "output_type": "stream",
          "name": "stderr",
          "text": [
            "INFO:sqlalchemy.engine.Engine:SELECT employees.role AS employees_role, avg(employees.salary) AS average_salary \n",
            "FROM employees GROUP BY employees.role\n"
          ]
        },
        {
          "output_type": "stream",
          "name": "stdout",
          "text": [
            "2024-01-21 11:15:01,260 INFO sqlalchemy.engine.Engine [generated in 0.00297s] ()\n"
          ]
        },
        {
          "output_type": "stream",
          "name": "stderr",
          "text": [
            "INFO:sqlalchemy.engine.Engine:[generated in 0.00297s] ()\n"
          ]
        },
        {
          "output_type": "stream",
          "name": "stdout",
          "text": [
            "2024-01-21 11:15:01,275 INFO sqlalchemy.engine.Engine SELECT employees.id AS employees_id, employees.name AS employees_name, employees.role AS employees_role, employees.salary AS employees_salary \n",
            "FROM employees\n"
          ]
        },
        {
          "output_type": "stream",
          "name": "stderr",
          "text": [
            "INFO:sqlalchemy.engine.Engine:SELECT employees.id AS employees_id, employees.name AS employees_name, employees.role AS employees_role, employees.salary AS employees_salary \n",
            "FROM employees\n"
          ]
        },
        {
          "output_type": "stream",
          "name": "stdout",
          "text": [
            "2024-01-21 11:15:01,283 INFO sqlalchemy.engine.Engine [generated in 0.00893s] ()\n"
          ]
        },
        {
          "output_type": "stream",
          "name": "stderr",
          "text": [
            "INFO:sqlalchemy.engine.Engine:[generated in 0.00893s] ()\n"
          ]
        },
        {
          "output_type": "stream",
          "name": "stdout",
          "text": [
            "\n",
            "Combined DataFrame - Employee Data with Average Salary per Role:\n",
            "    ID         Name                 Role   Salary  Average Salary\n",
            "0  101  Nupur Khare        Data Engineer   900000       1300000.0\n",
            "1  108       Zain C        Data Engineer  1700000       1300000.0\n",
            "2  102   Ria Sharma    Software Engineer  1000000       1150000.0\n",
            "3  109       Yuzi L    Software Engineer  1300000       1150000.0\n",
            "4  103     Aditya K    Platform Engineer  1800000       2350000.0\n",
            "5  107      Suman K    Platform Engineer  2900000       2350000.0\n",
            "6  104   Shubhi Das  Solutions Architect  2500000       2700000.0\n",
            "7  110      Krish N  Solutions Architect  2900000       2700000.0\n",
            "8  105     John Doe      System Engineer   600000        550000.0\n",
            "9  106      Rishi S      System Engineer   500000        550000.0\n",
            "2024-01-21 11:15:01,347 INFO sqlalchemy.engine.Engine ROLLBACK\n"
          ]
        },
        {
          "output_type": "stream",
          "name": "stderr",
          "text": [
            "INFO:sqlalchemy.engine.Engine:ROLLBACK\n"
          ]
        }
      ]
    }
  ]
}